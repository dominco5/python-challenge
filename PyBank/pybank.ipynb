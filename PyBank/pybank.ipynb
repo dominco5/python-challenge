{
 "cells": [
  {
   "cell_type": "code",
   "execution_count": 6,
   "metadata": {},
   "outputs": [],
   "source": [
    "# import necessary modules\n",
    "import os\n",
    "import csv"
   ]
  },
  {
   "cell_type": "code",
   "execution_count": 7,
   "metadata": {},
   "outputs": [],
   "source": [
    "# create variables\n",
    "total_months = 0\n",
    "total = 0\n",
    "total_change = 0\n"
   ]
  },
  {
   "cell_type": "code",
   "execution_count": 8,
   "metadata": {},
   "outputs": [],
   "source": [
    "# reference file being read\n",
    "csvpath = os.path.join(\"Resources\", \"budget_data.csv\")"
   ]
  },
  {
   "cell_type": "code",
   "execution_count": 9,
   "metadata": {},
   "outputs": [],
   "source": [
    "# Open CSV\n",
    "with open(csvpath) as csvfile:\n",
    "    csvreader = csv.reader(csvfile, delimiter = \",\")\n",
    "\n",
    "    header = next(csvreader)\n",
    "    firstrow = next(csvreader)\n",
    "\n",
    "    total_months = 1\n",
    "    total = int(firstrow[1])\n",
    "    previous_pl = int(firstrow[1])\n",
    "    total_change = 0\n",
    "    greatest_increase = int(firstrow[1])\n",
    "    greatest_decrease = int(firstrow[1])\n",
    "\n",
    "    for row in csvreader:\n",
    "        total_months += 1\n",
    "        total += int(row[1])\n",
    "        difference = int(row[1]) - previous_pl\n",
    "        total_change += difference\n",
    "        \n",
    "        if difference > greatest_increase:\n",
    "            greatest_increase = difference\n",
    "            month_greatest_increase = row[0]\n",
    "        elif difference < greatest_decrease:\n",
    "            greatest_decrease = difference\n",
    "            month_greatest_decrease = row[0]\n",
    "        \n",
    "        previous_pl = int(row[1])\n",
    "\n",
    "    average_change = total_change / total_months\n"
   ]
  },
  {
   "cell_type": "code",
   "execution_count": 5,
   "metadata": {},
   "outputs": [
    {
     "name": "stdout",
     "output_type": "stream",
     "text": [
      "Financial Analysis\n",
      "----------------------------\n",
      "Total Months: 86\n",
      "Total: 22564198\n",
      "Average Change: -8214.47\n",
      "Greatest Increase in Profits: Aug-16 ($1862002)\n",
      "Greatest Decrease in Profits: Feb-14 ($-1825558)\n"
     ]
    }
   ],
   "source": [
    "#print analysis of data\n",
    "print(f\"Financial Analysis\")\n",
    "print(f\"----------------------------\")\n",
    "print(f\"Total Months: {total_months}\")\n",
    "print(f\"Total: {total}\")\n",
    "print(f\"Average Change: {round(average_change, 2)}\")\n",
    "print(f\"Greatest Increase in Profits: {month_greatest_increase} (${greatest_increase})\")\n",
    "print(f\"Greatest Decrease in Profits: {month_greatest_decrease} (${greatest_decrease})\")"
   ]
  },
  {
   "cell_type": "code",
   "execution_count": 11,
   "metadata": {},
   "outputs": [],
   "source": [
    "# define filepath for output text file\n",
    "output_path = os.path.join(\"analysis\", \"budget_data_analysis.txt\")\n",
    "\n",
    "# open in write mode\n",
    "with open(output_path, 'w') as f:\n",
    "\n",
    "    # write\n",
    "    f.write(f\"Financial Analysis\")\n",
    "    f.write('\\n')\n",
    "    f.write(f\"----------------------------\")\n",
    "    f.write('\\n')\n",
    "    f.write(f\"Total Months: {total_months}\")\n",
    "    f.write('\\n')\n",
    "    f.write(f\"Total: ${total}\")\n",
    "    f.write('\\n')\n",
    "    f.write(f\"Average Change: ${round(average_change, 2)}\")\n",
    "    f.write('\\n')\n",
    "    f.write(f\"Greatest Increase in Profits: {month_greatest_increase} (${greatest_increase})\")\n",
    "    f.write('\\n')\n",
    "    f.write(f\"Greatest Decrease in Profits: {month_greatest_decrease} (${greatest_decrease})\")\n",
    "    "
   ]
  }
 ],
 "metadata": {
  "kernelspec": {
   "display_name": "base",
   "language": "python",
   "name": "python3"
  },
  "language_info": {
   "codemirror_mode": {
    "name": "ipython",
    "version": 3
   },
   "file_extension": ".py",
   "mimetype": "text/x-python",
   "name": "python",
   "nbconvert_exporter": "python",
   "pygments_lexer": "ipython3",
   "version": "3.10.11"
  },
  "orig_nbformat": 4
 },
 "nbformat": 4,
 "nbformat_minor": 2
}
