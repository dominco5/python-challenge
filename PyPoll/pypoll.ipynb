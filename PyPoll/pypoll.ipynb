{
 "cells": [
  {
   "cell_type": "code",
   "execution_count": 116,
   "metadata": {},
   "outputs": [],
   "source": [
    "# import necessary modules\n",
    "import os\n",
    "import csv\n"
   ]
  },
  {
   "cell_type": "code",
   "execution_count": 117,
   "metadata": {},
   "outputs": [],
   "source": [
    "# define file path\n",
    "csvpath = os.path.join(\"Resources\", \"election_data.csv\")"
   ]
  },
  {
   "cell_type": "code",
   "execution_count": 118,
   "metadata": {},
   "outputs": [],
   "source": [
    " # variables\n",
    "total_votes = 0\n",
    "candidates = []\n",
    "candidates_votes = []\n",
    "candidates_percent = []"
   ]
  },
  {
   "cell_type": "code",
   "execution_count": 119,
   "metadata": {},
   "outputs": [],
   "source": [
    "# open file\n",
    "with open(csvpath, 'r') as csvfile:\n",
    "    # initialize csvreader\n",
    "    csvreader = csv.reader(csvfile, delimiter=',')\n",
    "\n",
    "    # gather header (column names)\n",
    "    header = next(csvreader)\n",
    "\n",
    "    for row in csvreader:\n",
    "        # vote counter\n",
    "        total_votes += 1\n",
    "\n",
    "        # list of candidates\n",
    "        if row[2] not in candidates:\n",
    "            candidates.append(row[2])\n",
    "            candidates_votes.append(1)\n",
    "        # votes per candidate\n",
    "        else:\n",
    "            candidates_votes[candidates.index(row[2])] +=1\n",
    "\n",
    "    winner_votes = candidates_votes[0]\n",
    "\n",
    "    # votes per candidate (percent)\n",
    "    for votes in range(len(candidates_votes)):\n",
    "        percent = round(candidates_votes[votes] / total_votes * 100, 3)\n",
    "        candidates_percent.append(percent)\n",
    "\n",
    "        # find winner\n",
    "        if winner_votes < candidates_votes[votes]:\n",
    "            winner_votes = candidates_votes[votes]\n",
    "    \n",
    "    winner = candidates[candidates_votes.index(winner_votes)]\n",
    "\n",
    "# print(candidates)\n",
    "# print(candidates_votes)\n",
    "# print(candidates_percent)\n",
    "# print(winner)\n",
    "\n"
   ]
  },
  {
   "cell_type": "code",
   "execution_count": 120,
   "metadata": {},
   "outputs": [
    {
     "name": "stdout",
     "output_type": "stream",
     "text": [
      "Election Results\n",
      "-------------------------\n",
      "Total Votes: 369711\n",
      "-------------------------\n",
      "Charles Casper Stockham: 23.049% (85213)\n",
      "Diana DeGette: 73.812% (272892)\n",
      "Raymon Anthony Doane: 3.139% (11606)\n",
      "-------------------------\n",
      "Winner: Diana DeGette\n",
      "-------------------------\n"
     ]
    }
   ],
   "source": [
    "# print results\n",
    "results = [\"Election Results\",\n",
    "           \"-------------------------\",\n",
    "           f'Total Votes: {total_votes}',\n",
    "           \"-------------------------\"\n",
    "        ]\n",
    "\n",
    "for people in candidates:\n",
    "    people_index = candidates.index(people)\n",
    "    results.append(f'{candidates[people_index]}: {candidates_percent[people_index]}% ({candidates_votes[people_index]})')\n",
    "    \n",
    "results.append(\"-------------------------\")\n",
    "results.append(f'Winner: {winner}')\n",
    "results.append(\"-------------------------\")\n",
    "\n",
    "for line in results:\n",
    "    print(line)"
   ]
  },
  {
   "cell_type": "code",
   "execution_count": 121,
   "metadata": {},
   "outputs": [],
   "source": [
    "# set output file path\n",
    "output_path = os.path.join(\"Analysis\", \"election_analysis.txt\")"
   ]
  },
  {
   "cell_type": "code",
   "execution_count": 123,
   "metadata": {},
   "outputs": [],
   "source": [
    "# write to output file\n",
    "with open(output_path, 'w') as f:\n",
    "    for line in results:\n",
    "        f.write(f'{line} \\n')"
   ]
  },
  {
   "cell_type": "code",
   "execution_count": null,
   "metadata": {},
   "outputs": [],
   "source": []
  }
 ],
 "metadata": {
  "kernelspec": {
   "display_name": "base",
   "language": "python",
   "name": "python3"
  },
  "language_info": {
   "codemirror_mode": {
    "name": "ipython",
    "version": 3
   },
   "file_extension": ".py",
   "mimetype": "text/x-python",
   "name": "python",
   "nbconvert_exporter": "python",
   "pygments_lexer": "ipython3",
   "version": "3.10.11"
  },
  "orig_nbformat": 4
 },
 "nbformat": 4,
 "nbformat_minor": 2
}
